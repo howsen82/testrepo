{
 "cells": [
  {
   "cell_type": "markdown",
   "id": "2b7614eb-d246-49c4-a79a-d2135eedcb2d",
   "metadata": {},
   "source": [
    "# Data Science Tools and Ecosystem"
   ]
  },
  {
   "cell_type": "markdown",
   "id": "7403e210-3132-4610-8a04-85e212a55a3c",
   "metadata": {},
   "source": [
    "In this notebook, Data Science Tools and Ecosystem are summarized."
   ]
  },
  {
   "cell_type": "markdown",
   "id": "ca37f93e-ba21-4e5a-8f08-068689fd9d54",
   "metadata": {},
   "source": [
    "Some of the popular languages that Data Scientists use are:\n",
    "1. Python\n",
    "2. R\n",
    "3. Julia"
   ]
  },
  {
   "cell_type": "markdown",
   "id": "afdc11c3-bc73-4c76-b009-eeb4a056f524",
   "metadata": {},
   "source": [
    "Some of the commonly used libraries used by Data Scientists include:\n",
    "1. Pandas\n",
    "2. Numpy\n",
    "3. Scikit Learn\n",
    "4. Seaborn\n",
    "5. TensorFlow"
   ]
  },
  {
   "cell_type": "markdown",
   "id": "ccab5462-2f10-4b76-8dee-1f2d5e8bf869",
   "metadata": {},
   "source": [
    "| Data Science Tools |\n",
    "|--------------------|\n",
    "| Jupyter Notebook   |\n",
    "| RStudio            |\n",
    "| Tableau            |"
   ]
  },
  {
   "cell_type": "markdown",
   "id": "cfc47a75-2243-402d-b8eb-39a2bf4b553a",
   "metadata": {},
   "source": [
    "### Below are a few examples of evaluating arithmetic expressions in Python\n",
    "\n",
    "```py\n",
    "a = 5\n",
    "b = 3\n",
    "result = a + b\n",
    "print(result)  # Output: 8\n",
    "```\n",
    "\n",
    "```py\n",
    "a = 10\n",
    "b = 4\n",
    "result = a - b\n",
    "print(result)  # Output: 6\n",
    "```\n",
    "\n",
    "```py\n",
    "a = 7\n",
    "b = 6\n",
    "result = a * b\n",
    "print(result)  # Output: 42\n",
    "```"
   ]
  },
  {
   "cell_type": "code",
   "execution_count": 1,
   "id": "3370e358-a3e8-4f6f-b03b-2645b97fd8ca",
   "metadata": {
    "tags": []
   },
   "outputs": [
    {
     "name": "stdout",
     "output_type": "stream",
     "text": [
      "17\n"
     ]
    }
   ],
   "source": [
    "# This is a simple arithmetic expression to multiply 3 and 4, then add 5.\n",
    "result = (3 * 4) + 5\n",
    "print(result)  # Output should be 17"
   ]
  },
  {
   "cell_type": "markdown",
   "id": "cd086d42-690c-49d2-b219-bebd08dd433a",
   "metadata": {
    "tags": []
   },
   "source": [
    "# This will convert 200 minutes to hours by dividing by 60.\n",
    "minutes = 200\n",
    "hours = minutes / 60\n",
    "print(hours)  # Output should be approximately 3.3333"
   ]
  },
  {
   "cell_type": "markdown",
   "id": "b575c06e-5802-441f-a51b-c2b30425c69f",
   "metadata": {
    "tags": []
   },
   "source": [
    "**Objectives:**\n",
    "\n",
    "List popular languages for Data Science\n",
    "* Python\n",
    "* R\n",
    "* Julia\n",
    "* SAS\n",
    "* Scala"
   ]
  },
  {
   "cell_type": "markdown",
   "id": "56b846b2-e7e9-41cd-bd08-4bea4adedaf5",
   "metadata": {},
   "source": [
    "## Author\n",
    "Steven Leong"
   ]
  }
 ],
 "metadata": {
  "kernelspec": {
   "display_name": "Python",
   "language": "python",
   "name": "conda-env-python-py"
  },
  "language_info": {
   "codemirror_mode": {
    "name": "ipython",
    "version": 3
   },
   "file_extension": ".py",
   "mimetype": "text/x-python",
   "name": "python",
   "nbconvert_exporter": "python",
   "pygments_lexer": "ipython3",
   "version": "3.7.12"
  }
 },
 "nbformat": 4,
 "nbformat_minor": 5
}
